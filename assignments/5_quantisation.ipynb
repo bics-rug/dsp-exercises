{
 "cells": [
  {
   "cell_type": "markdown",
   "id": "77df2c7d",
   "metadata": {},
   "source": [
    "# Assignment 5: Quantization\n",
    "\n",
    "In this assignment we are going to look into quantization. Quantisation is one of the non-idealities that we have to consider in digital signal processing. All signal we have been lookin at in previous assignments were already quantized, but you may not have noticed. This is because, in software, we use large data types like float64 that lead to low quantization errors. When capturing signals, in DSP hardware or in resource constrained computing systems, however, we will resort to data types to lower bit resolution."
   ]
  },
  {
   "cell_type": "code",
   "execution_count": null,
   "id": "039df2e2",
   "metadata": {},
   "outputs": [],
   "source": [
    "import matplotlib.pyplot as plt\n",
    "import numpy as np\n",
    "\n",
    "def uniform_quantize(signal, num_levels):\n",
    "    min_val, max_val = signal.min(), signal.max()\n",
    "    q_levels = np.linspace(min_val, max_val, num_levels)\n",
    "    q_signal = np.digitize(signal, q_levels) - 1\n",
    "    return q_levels[q_signal]"
   ]
  },
  {
   "cell_type": "markdown",
   "id": "ad08eb37",
   "metadata": {},
   "source": [
    "## Task 1: Software quantization\n",
    "\n",
    "Until now we always used the numpy standard datatype for numerical arrays, typically float64 for modern systems, to represent data. When we compute on signals, even in software, on systems that are not your typical 64 bit desktop or laptop CPU, we need to use data types of lower precsion (fp32 down to even binary). These can be GPUs, tensor cores, APUs or microcontrollers. Recently, the trend goes towards using low resolution data types even on GPUs (typically fp32) like int8 for data-intensive processes to save memory bandwidth and power.\n",
    "\n",
    "In this task you need to find a scaling factor (= maximum absolute value) for the signal to maximize its resolution with int8 precision. Remember that int8 means *signed* 8 bit integer and look up its definition.\n",
    "Then, calculate the quantization error and quantization SNR (SQNR) between *sine* and *quantized_int8*. In this we assume that the fp64 *sine* is the analog signal."
   ]
  },
  {
   "cell_type": "code",
   "execution_count": null,
   "id": "10dc7ac2",
   "metadata": {},
   "outputs": [],
   "source": [
    "sampling_rate = 5e6\n",
    "nyq = sampling_rate / 2\n",
    "samples = 1024\n",
    "sine_omega = 2 * np.pi * 5e3\n",
    "scale = # Insert a scaling factor that maximized the resolution for int8\n",
    "\n",
    "time = np.arange(samples) / sampling_rate\n",
    "sine = scale * np.sin(sine_omega * time)\n",
    "quantized_int8 = sine.astype(np.int8)\n",
    "bitstring = [f'{x & 0xFF:08b}' for x in quantized_int8]\n",
    "print(\"An excerpt of our signal in 8 bit integer format:\")\n",
    "print(bitstring[240:255])\n",
    "\n",
    "fig_int8, ax_int8 = plt.subplots(figsize=[3.45, 2.3], dpi=200)\n",
    "ax_int8.plot(1e6*time, sine, drawstyle='steps-mid', label=\"float64\")\n",
    "ax_int8.plot(1e6*time, quantized_int8, drawstyle='steps-mid', label=\"int8\")\n",
    "ax_int8.set_xlabel(\"Time [μs]\")\n",
    "ax_int8.set_ylabel(\"Amplitude [a.u.]\")\n",
    "ax_int8.set_title(\"Signal\")\n",
    "ax_int8.legend()"
   ]
  },
  {
   "cell_type": "code",
   "execution_count": null,
   "id": "10a02f87",
   "metadata": {},
   "outputs": [],
   "source": [
    "error = # Calculate the quantization error\n",
    "\n",
    "sqnr = # Calculate the SQNR in dB based on the formula in lecture 7, slide 6\n",
    "print(f\"The SQNR is {sqnr} dB\")\n",
    "\n",
    "fig_error, ax_error = plt.subplots(nrows=2, sharex=True, figsize=[3.45, 2.3], dpi=200)\n",
    "ax_error[0].plot(1e6*time, sine)\n",
    "ax_error[0].plot(1e6*time, quantized_int8, drawstyle='steps-mid')\n",
    "ax_error[0].set_ylabel(\"Amplitude [a.u.]\")\n",
    "ax_error[0].set_ylim([118, 128])\n",
    "\n",
    "ax_error[1].plot(1e6*time, error)\n",
    "ax_error[1].set_ylabel(\"Error [a.u.]\")\n",
    "ax_error[1].set_ylim([-0.1, 1.1])\n",
    "\n",
    "ax_error[0].set_xlim([40, 60])\n",
    "ax_error[1].set_xlabel(\"Time [μs]\")\n",
    "ax_error[0].set_title(\"Quantization error\")"
   ]
  },
  {
   "cell_type": "markdown",
   "id": "82e7f915",
   "metadata": {},
   "source": [
    "### Questions:\n",
    "- What is the reason for choosing your scale (=max value). What would happen if you go higher? Look at the printed bits for clarification and compare with the int8 defintion.\n",
    "  - YOUR ANSWER\n",
    "- Given that you found the scaling for maximum resolution, what is the maximum quantization error in the previous example?\n",
    "  - YOUR ANSWER\n",
    "\n",
    "## Task 2: Hardware quantization\n",
    "\n",
    "From the previous assignment we already now that we want to minimize the sampling rate to save costs on analog-digital-converters (ADCs). The same applies to the amplitude resolution. Typical ADCs have 8 bit to 12 bit resolution, which is already introduces significant quantization errors.\n",
    "\n",
    "In this task, calculate the error and the quantization SNR."
   ]
  },
  {
   "cell_type": "code",
   "execution_count": null,
   "id": "95414748",
   "metadata": {},
   "outputs": [],
   "source": [
    "bitlevels = [2, 4, 6, 8, 12]\n",
    "\n",
    "sine = np.sin(sine_omega * time)\n",
    "\n",
    "fig_mods, ax_quantized = plt.subplots(figsize=[3.45, 2.3], dpi=200)\n",
    "\n",
    "for bits in bitlevels:\n",
    "    quantized = uniform_quantize(sine, 2**bits)\n",
    "    ax_quantized.plot(1e6*time, quantized, drawstyle='steps-mid', label=f\"{bits} b\")\n",
    "    error = # Calculate the quantization error\n",
    "    sqnr = # Calculate the SQNR in dB based on the formula in lecture 7, slide 6\n",
    "    print(f\"The SQNR is {sqnr} dB for {bits} b\")\n",
    "\n",
    "ax_quantized.set_xlabel(\"Time [μs]\")\n",
    "ax_quantized.set_ylabel(\"Amplitude [a.u.]\")\n",
    "ax_quantized.set_title(\"Signal\")\n",
    "ax_quantized.legend()\n"
   ]
  },
  {
   "cell_type": "markdown",
   "id": "cb2547f9",
   "metadata": {},
   "source": [
    "## Questions:\n",
    "- What (approximate) relationship can you find between the value of the SQNR and and the number of bits?\n",
    "  - YOUR ANSWER"
   ]
  }
 ],
 "metadata": {
  "kernelspec": {
   "display_name": ".venv",
   "language": "python",
   "name": "python3"
  },
  "language_info": {
   "codemirror_mode": {
    "name": "ipython",
    "version": 3
   },
   "file_extension": ".py",
   "mimetype": "text/x-python",
   "name": "python",
   "nbconvert_exporter": "python",
   "pygments_lexer": "ipython3",
   "version": "3.8.10"
  }
 },
 "nbformat": 4,
 "nbformat_minor": 5
}
