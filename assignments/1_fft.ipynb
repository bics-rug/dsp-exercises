{
 "cells": [
  {
   "cell_type": "markdown",
   "id": "6790d076",
   "metadata": {},
   "source": [
    "# Assignment 1: Fast Fourier Transform (FFT)\n",
    "\n",
    "In this assignment we will cover the Fast Fourier Transform (FFT). The FFT is the most used algorithm for doing discrete fourier transforms as it can be implemented very efficiently in a digital manner due to its graph structure. Accordingly, most software and digital hardware implementations of fourier transforms use the FFT algorithm.\n",
    "\n",
    "Here, we are using the FFT software implementation supplied by the numpy python package. \n",
    "Please see the documentation [here](https://numpy.org/doc/stable/reference/routines.fft.html) on how to use numpy.fft().\n",
    "\n",
    "Further, please refer [here](https://numpy.org/doc/stable/reference/routines.math.html) for numpy's implementation of common mathematical functions.\n",
    "\n",
    "## Task 1: Fourier transform of a sinc\n",
    "In the following block there is already some code to plot a signal and its fourier transform.\n",
    "Your task is to fill in the last pieces: \n",
    " - Fill in three sampling frequencies: One that is just enough to get all the relevant information in the frequency domain, and the ones at 1/2 and twice that sampling rate\n",
    "   - Don't be worried if the time domain does not look like the ideal sinc. We only care about getting the full frequency spectrum\n",
    " - The actual calculation of the fft (you can use numpy's predefined functions)\n",
    "You can find the right frequency immediately via the theory of sampling, but you are also free to look for it by trial and error. In that case look closely at how the signal changes in the frequency domain with different sampling rates."
   ]
  },
  {
   "cell_type": "code",
   "execution_count": null,
   "id": "d7c42a90",
   "metadata": {},
   "outputs": [],
   "source": [
    "from decimal import Decimal\n",
    "\n",
    "import numpy as np\n",
    "import matplotlib.pyplot as plt"
   ]
  },
  {
   "cell_type": "code",
   "execution_count": null,
   "id": "f910f9f4",
   "metadata": {},
   "outputs": [],
   "source": [
    "sampling_rates = [] # Fill in the sampling rates here, i.e. [1e4, 1e5, 1e6]\n",
    "samples = 1e5\n",
    "frequency = 1e5\n",
    "omega = 2*np.pi*frequency\n",
    "\n",
    "fig_sinc, ax_sinc = plt.subplots(figsize=[3.45, 2.3], dpi=200)\n",
    "fig_spectrum, ax_spectrum = plt.subplots(figsize=[3.45, 2.3], dpi=200)\n",
    "\n",
    "for sampling_rate in sampling_rates:\n",
    "    time = np.arange(-samples/sampling_rate, samples/sampling_rate, 1/sampling_rate)\n",
    "    sinc_timedomain = np.sinc(time * omega / np.pi)\n",
    "     \n",
    "    # Do a fourier transform of the sinc. Remember to also obtain the corresponding sample frequencies\n",
    "    # Do this for each sampling rate\n",
    "    sinc_spectrum = # FFT\n",
    "    f = # Get the frequency sampling points\n",
    "    #\n",
    "\n",
    "    ax_sinc.plot(1e6*time, sinc_timedomain, label=f\"fs={Decimal(sampling_rate):.2E}\")\n",
    "    ax_spectrum.plot(f/1e3, np.abs(sinc_spectrum), label=f\"fs={Decimal(sampling_rate):.2E}\")\n",
    "\n",
    "ax_sinc.set_xlabel(\"Time [μs]\")\n",
    "ax_sinc.set_ylabel(\"Amplitude [a.u.]\")\n",
    "ax_sinc.set_xlim([-100,100])\n",
    "ax_sinc.set_title(\"Time Domain\")\n",
    "ax_spectrum.set_xlabel(\"Frequency [kHz]\")\n",
    "ax_spectrum.set_ylabel(\"Amplitude [a.u.]\")\n",
    "ax_spectrum.set_ylim([1e-3,20])\n",
    "ax_spectrum.set_xlim([-200,200])\n",
    "ax_spectrum.set_yscale(\"log\")\n",
    "ax_spectrum.set_title(\"Frequency Domain\")\n",
    "ax_sinc.legend(fontsize=\"small\")\n",
    "ax_spectrum.legend(fontsize=\"small\")"
   ]
  },
  {
   "cell_type": "markdown",
   "id": "b02fca2c",
   "metadata": {},
   "source": [
    "### Question: Describe what the influence of the sampling rate is\n",
    "- What is changing for the lower and higher sampling rates, compared to the middle (critical) one?\n",
    "  - YOUR ANSWER\n",
    "- How does the sampling rate relate to the spectrum you plotted? Do you see any relation between the sampling frequency and any significant frequency you see in the spectrum?\n",
    "  - YOUR ANSWER\n",
    "- Given any signal, for example f(w)=sinc(w0), can you derive a guideline on what sampling frequency to choose in order to be able to do a useful fourier transform?\n",
    "  - YOUR ANSWER"
   ]
  },
  {
   "cell_type": "markdown",
   "id": "69da8022",
   "metadata": {},
   "source": [
    "## Task 2: Filtering an input signal\n",
    "\n",
    "We have a given input signal as seen in the first plot. I consists of three tones (sinuses) at 50 kHz, 55 kHz and 60 kHz."
   ]
  },
  {
   "cell_type": "code",
   "execution_count": null,
   "id": "d696c5b1",
   "metadata": {},
   "outputs": [],
   "source": [
    "sampling_rate = 1e7\n",
    "time = np.arange(-1e6, 1e6, 1) / sampling_rate\n",
    "\n",
    "tone_50k = np.sin(2*np.pi*50e3*time)\n",
    "tone_55k = np.sin(2*np.pi*55e3*time)\n",
    "tone_60k = np.sin(2*np.pi*60e3*time)\n",
    "\n",
    "signal_tones = tone_50k + tone_55k + tone_60k\n",
    "\n",
    "fig_tones, ax_tones = plt.subplots(figsize=[3.45, 2.3], dpi=200)\n",
    "ax_tones.plot(1e6*time, signal_tones)\n",
    "ax_tones.set_xlabel(\"Time [μs]\")\n",
    "ax_tones.set_ylabel(\"Amplitude [a.u.]\")\n",
    "ax_tones.set_xlim([0, 200])\n",
    "ax_tones.set_title(\"Input Signal\")"
   ]
  },
  {
   "cell_type": "markdown",
   "id": "ddc792a6",
   "metadata": {},
   "source": [
    "Now we want to reconstruct the 50 kHz tone by using an appropriate filter.\n",
    "In other words, our output signal shall be a 50 kHz sine only.\n",
    "Filtering in the time domain requires a convolution and can be confusing to grasp. Therefore we use the fourier transform and frequency domain.\n",
    "Your task is the following:\n",
    "- Choose a time-domain function that is appropriate for implementing this kind of filter, i.e. cutting of the higher frequency tones.\n",
    "- Fourier transform the input and the filter\n",
    "- Apply the filter to the input so that it corresponds to a convolution in the time domain.\n",
    "- Apply an inverse fourier transform to the result to obtain the time-domain output signal\n",
    "\n",
    "The expected output is an undistorted 50 kHz sine."
   ]
  },
  {
   "cell_type": "code",
   "execution_count": null,
   "id": "e6494c0a",
   "metadata": {},
   "outputs": [],
   "source": [
    "# Fill in here \n",
    "filter_freq = # Choose a frequency\n",
    "filter_omega = 2*np.pi*filter_freq\n",
    "filter_timedomain = # Choose a function that corresponds to a useful filter in the frequency domain\n",
    "\n",
    "tones_spectrum = # FFT \n",
    "tones_frequencies = # Frequency samples\n",
    "filter_spectrum = # FFT \n",
    "filter_frequencies = # Frequency samples\n",
    "\n",
    "out_spectrum = # Apply the filter to the input\n",
    "\n",
    "out_timedomain = # Inverse FFT\n",
    "\n",
    "fig_out_spectrum, ax_out_spectrum = plt.subplots(figsize=[3.45, 2.3], dpi=200)\n",
    "ax_out_spectrum.plot(tones_frequencies/1e3, np.abs(out_spectrum))\n",
    "ax_out_spectrum.set_xlabel(\"Frequency [kHz]\")\n",
    "ax_out_spectrum.set_ylabel(\"Amplitude [a.u.]\")\n",
    "ax_out_spectrum.set_xlim([-100,100])\n",
    "ax_out_spectrum.set_yscale(\"log\")\n",
    "ax_out_spectrum.set_title(\"Filtered Spectrum\")\n",
    "\n",
    "fig_out_timedomain, ax_out_timedomain = plt.subplots(figsize=[3.45, 2.3], dpi=200)\n",
    "ax_out_timedomain.plot(1e6*time, out_timedomain)\n",
    "ax_out_timedomain.set_xlabel(\"Time [μs]\")\n",
    "ax_out_timedomain.set_ylabel(\"Amplitude [a.u.]\")\n",
    "ax_out_timedomain.set_xlim([0, 100])\n",
    "ax_out_timedomain.set_title(\"Filtered Signal\")"
   ]
  }
 ],
 "metadata": {
  "kernelspec": {
   "display_name": ".venv",
   "language": "python",
   "name": "python3"
  },
  "language_info": {
   "codemirror_mode": {
    "name": "ipython",
    "version": 3
   },
   "file_extension": ".py",
   "mimetype": "text/x-python",
   "name": "python",
   "nbconvert_exporter": "python",
   "pygments_lexer": "ipython3",
   "version": "3.8.10"
  }
 },
 "nbformat": 4,
 "nbformat_minor": 5
}
