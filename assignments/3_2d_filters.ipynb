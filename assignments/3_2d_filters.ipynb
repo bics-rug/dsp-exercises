{
 "cells": [
  {
   "cell_type": "markdown",
   "id": "c3924469",
   "metadata": {},
   "source": [
    "# Assignment 3: 2D Filters\n",
    "\n",
    "In this assignment we are extending our knowledge of filters into the second dimension. This means we deal with matrices for input, output and transfer function. A typical application for 2D filters is image processing. Note that in the \n",
    "two and higher dimensions we often call our filters or transfer functions *kernels*."
   ]
  },
  {
   "cell_type": "code",
   "execution_count": null,
   "id": "38a7e38e",
   "metadata": {},
   "outputs": [],
   "source": [
    "import numpy as np\n",
    "import matplotlib.pyplot as plt\n",
    "import skimage as ski\n",
    "from scipy.signal import convolve2d"
   ]
  },
  {
   "cell_type": "markdown",
   "id": "7fb3bde3",
   "metadata": {},
   "source": [
    "## Task 1: Edge detection\n",
    "\n",
    "In this task you will detect edges within an image.\n",
    "- Find a kernel that exaggerates edges within the image\n",
    "- Apply a 2D convolutions to obtain the filtered image"
   ]
  },
  {
   "cell_type": "code",
   "execution_count": null,
   "id": "c9dea806",
   "metadata": {},
   "outputs": [],
   "source": [
    "# Implement a filter that exaggerates edges within the image. The kernel shall be a 3x3 matrix.\n",
    "# You can of course look up different examples online or in literature and try them out, there are several solutions.\n",
    "kernel = np.array([[,,], [,,], [,,]]) # E.g. [[0, 0, 0], [0, 1, 0], [0, 0, 0]]\n",
    "\n",
    "fig, ax = plt.subplots(ncols=2, figsize=(10, 5))\n",
    "\n",
    "image = ski.data.camera()\n",
    "\n",
    "ax[0].imshow(image, cmap='gray')\n",
    "ax[1].imshow(kernel, cmap='gray')\n",
    "\n",
    "fig, ax = plt.subplots(ncols=3, figsize=(15, 5))\n",
    "\n",
    "# Apply a 2D convolution\n",
    "edge_ourkernel = \n",
    "\n",
    "# This is just an example of and optimized edge detection filter\n",
    "edge_sobel = ski.filters.sobel(image)\n",
    "\n",
    "ax[0].imshow(image, cmap='gray')\n",
    "ax[1].imshow(edge_ourkernel, cmap='gray')\n",
    "ax[2].imshow(edge_sobel, cmap='gray')\n"
   ]
  },
  {
   "cell_type": "markdown",
   "id": "723d5b1c",
   "metadata": {},
   "source": [
    "## Task 2: Faulty pixels\n",
    "\n",
    "In this task you will get a noisy image where some pixels are black or white instead of their original value, i.e. there are irregular outliers.\n",
    "Your task is to find a filter that restores the original image within possibility.\n",
    "- Find a filter function that is appropriate, you can choose within here: https://scikit-image.org/docs/stable/api/skimage.filters.html#\n",
    "  - You already know this type of filter from the lecture on filters, although under a different name than in the scikit documentation.\n"
   ]
  },
  {
   "cell_type": "code",
   "execution_count": null,
   "id": "3d11580f",
   "metadata": {},
   "outputs": [],
   "source": [
    "rng = np.random.default_rng()\n",
    "noisy_image = ski.util.img_as_ubyte(ski.data.camera())\n",
    "noise = rng.random(noisy_image.shape)\n",
    "noisy_image[noise > 0.99] = 255\n",
    "noisy_image[noise < 0.01] = 0\n",
    "\n",
    "fig, ax = plt.subplots(ncols=2, figsize=(10, 5), sharex=True)\n",
    "\n",
    "ax[0].imshow(noisy_image, vmin=0, vmax=255, cmap=plt.cm.gray)\n",
    "ax[0].set_title('Noisy image')\n",
    "\n",
    "filtered_image = # Your filter\n",
    "                        \n",
    "ax[1].imshow(\n",
    "    filtered_image,\n",
    "    vmin=0,\n",
    "    vmax=255,\n",
    "    cmap=plt.cm.gray,\n",
    ")\n",
    "ax[1].set_title('Filtered image')\n"
   ]
  },
  {
   "cell_type": "markdown",
   "id": "f1f1f92b",
   "metadata": {},
   "source": [
    "## Task 3: High- and Low-pass\n",
    "Of course, High- and Low-pass filters also exist in the 2D case, however may not be obvious what they do to, for example, an image.\n",
    "For an image, one of them filters for edges, while the other one blurs the image.\n",
    "- Find appropriate cutoffs for the high- and low-pass filters so that one of them exaggerates the edges of the images and the other blurs the image.\n",
    "  - Use lecture 04 on filters, slide 30 (\"Image filtering examples\") as a guide line on how the image should look like after filtering. One should look like the LL filterd image, the other one like the HH filtered image.\n",
    "  "
   ]
  },
  {
   "cell_type": "code",
   "execution_count": null,
   "id": "54df0a1f",
   "metadata": {},
   "outputs": [],
   "source": [
    "cutoff_hp = # Your cutoff\n",
    "cutoff_lp = # Your cutoff\n",
    "image = ski.data.camera()\n",
    "\n",
    "highpassed = ski.filters.butterworth(\n",
    "    # ...\n",
    "    # ...\n",
    ")\n",
    "lowpassed = ski.filters.butterworth(\n",
    "    # ...\n",
    "    # ...\n",
    ")\n",
    "\n",
    "fig, ax = plt.subplots(ncols=3, figsize=(15, 5))\n",
    "\n",
    "ax[0].imshow(image, cmap='gray')\n",
    "ax[1].imshow(highpassed, cmap='gray')\n",
    "ax[2].imshow(lowpassed, cmap='gray')"
   ]
  }
 ],
 "metadata": {
  "kernelspec": {
   "display_name": ".venv",
   "language": "python",
   "name": "python3"
  },
  "language_info": {
   "codemirror_mode": {
    "name": "ipython",
    "version": 3
   },
   "file_extension": ".py",
   "mimetype": "text/x-python",
   "name": "python",
   "nbconvert_exporter": "python",
   "pygments_lexer": "ipython3",
   "version": "3.8.10"
  }
 },
 "nbformat": 4,
 "nbformat_minor": 5
}
