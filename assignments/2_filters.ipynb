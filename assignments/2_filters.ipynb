{
 "cells": [
  {
   "cell_type": "markdown",
   "id": "9996bac8",
   "metadata": {},
   "source": [
    "# Assignment 2: Filtering\n",
    "\n",
    "In this assignment we are going to look into filters. Filters are a useful tool to remove noise from a signal, transform a signal or to recover a specific tone/band from a broadband signal, like in a radio.\n",
    "Here, we will focus on 1D filtering, introduce the signal to noise ration (SNR) and design a very simple FIR filter."
   ]
  },
  {
   "cell_type": "code",
   "execution_count": null,
   "id": "6c465a6d",
   "metadata": {},
   "outputs": [],
   "source": [
    "import matplotlib.pyplot as plt\n",
    "import numpy as np\n",
    "import scipy"
   ]
  },
  {
   "cell_type": "markdown",
   "id": "d65a8d9f",
   "metadata": {},
   "source": [
    "## Task 1: SNR & Median Filter\n",
    "\n",
    "In this task, you get a noisy signal sampled (and lowpassed) at different sampling rates.\n",
    "- Calculate the SNR for the unfiltered signal\n",
    "- Apply a median filter to the signal\n",
    "- Calculate the SNR of the filtered signal\n",
    "- Compare the time domain of both the filtered and unfiltered signal in a plot"
   ]
  },
  {
   "cell_type": "code",
   "execution_count": null,
   "id": "4b0ebf8f",
   "metadata": {},
   "outputs": [],
   "source": [
    "sampling_rates = [2e5, 2e6, 2e7]\n",
    "samples = 1024*100\n",
    "tone50k_omega = 2 * np.pi * 50e3\n",
    "\n",
    "for sampling_rate in sampling_rates:\n",
    "    time = np.arange(samples) / sampling_rate\n",
    "    tone50k = np.sin(tone50k_omega * time)\n",
    "    noisegen = np.random.default_rng()\n",
    "    noise = 5e-4*noisegen.normal(0.0, 0.5*np.sqrt(sampling_rate), size=samples)\n",
    "\n",
    "    signal_noisy = tone50k + noise\n",
    "\n",
    "    # Calculate the SNR in dB as it was introduced in the lecture\n",
    "    snr = \n",
    "\n",
    "    # Calculate the fourier transform of the noisy signal via FFT\n",
    "    spectrum = \n",
    "    f = \n",
    "\n",
    "    # Apply a median filter and calculate the new SNR. Assume for simplicity that there is no phase shift!\n",
    "    # Look here for a function for a median filter:\n",
    "    # https://docs.scipy.org/doc/scipy/reference/signal.html\n",
    "    signal_averaged = \n",
    "    snr_averaged = \n",
    "\n",
    "    print(f\"The SNR is {snr} dB at a sampling rate of {sampling_rate}\")\n",
    "    print(f\"After filtering, the SNR is {snr_averaged} dB at a sampling rate of {sampling_rate}\")\n",
    "\n",
    "    fig_signal, ax_signal = plt.subplots(figsize=[3.45, 2.3], dpi=200)\n",
    "    ax_signal.plot(1e6*time, signal_noisy)\n",
    "    ax_signal.plot(1e6*time, signal_averaged)\n",
    "    ax_signal.set_xlabel(\"Time [μs]\")\n",
    "    ax_signal.set_ylabel(\"Amplitude [a.u.]\")\n",
    "    ax_signal.set_xlim([0,100])\n",
    "    ax_signal.set_title(\"Time Domain\")\n",
    "\n",
    "    fig_spectrum, ax_spectrum = plt.subplots(figsize=[3.45, 2.3], dpi=200)\n",
    "    ax_spectrum.plot(f/1e3, np.abs(spectrum))\n",
    "    ax_spectrum.set_xlabel(\"Frequency [kHz]\")\n",
    "    ax_spectrum.set_ylabel(\"Amplitude [a.u.]\")\n",
    "    #ax_spectrum.set_xlim([0,150])\n",
    "    ax_spectrum.set_yscale(\"log\")\n",
    "    ax_spectrum.set_title(\"Frequency Domain\")\n",
    "    \n",
    "plt.show()"
   ]
  },
  {
   "cell_type": "markdown",
   "id": "cbc4ebac",
   "metadata": {},
   "source": [
    "### Questions\n",
    "- What does a negative (in dB) SNR mean?\n",
    "  - YOUR ANSWER\n",
    "- What effect does the increase of the sampling rate have on the SNR?\n",
    "  - YOUR ANSWER\n",
    "- Why is that happening? What is changing with the signal or the noise that causes this? You can relate this to the formula of the SNR.\n",
    "  - YOUR ANSWER\n"
   ]
  },
  {
   "cell_type": "markdown",
   "id": "f18f6638",
   "metadata": {},
   "source": [
    "## Task 2: FIR Filter Design\n",
    "\n",
    "In this task, the goal is to design a filter that is causal and finite, and thus easy to implement as a digital FIR filter.\n",
    "This however means that we can not implement an ideal filter!\n",
    "\n",
    "First, take a look at the following noisy signal."
   ]
  },
  {
   "cell_type": "code",
   "execution_count": null,
   "id": "ab207fc6",
   "metadata": {},
   "outputs": [],
   "source": [
    "sampling_rate = 1e6\n",
    "samples = 1024*100\n",
    "tone50k_omega = 2 * np.pi * 50e3\n",
    "time = np.arange(samples) / sampling_rate\n",
    "tone50k = np.sin(tone50k_omega * time)\n",
    "noise = 5e-3*np.random.normal(0, 0.5*np.sqrt(sampling_rate), size=samples)\n",
    "\n",
    "signal_noisy = tone50k + noise\n",
    "\n",
    "fig_unfiltered, ax_unfiltered = plt.subplots(figsize=[3.45, 2.3], dpi=200)\n",
    "ax_unfiltered.plot(signal_noisy)\n",
    "ax_unfiltered.set_xlabel(\"Time [μs]\")\n",
    "ax_unfiltered.set_ylabel(\"Amplitude [a.u.]\")\n",
    "ax_unfiltered.set_xlim([0,200])\n",
    "ax_unfiltered.set_title(\"Unfiltered Signal\")"
   ]
  },
  {
   "cell_type": "markdown",
   "id": "ef7299dd",
   "metadata": {},
   "source": [
    "Your task is now to filter this singal to recover the 50 kHz tone from the noisy signal.\n",
    "- You are going to implement an FIR filter via a windowing method. For this you need to choose two corner frequencies.\n",
    "\n",
    "Note: You may get two lines in the spectrum, due to taking the absolute of the signal. You can ignore the lower (closer to zero) line."
   ]
  },
  {
   "cell_type": "code",
   "execution_count": null,
   "id": "0a186d9e",
   "metadata": {},
   "outputs": [],
   "source": [
    "# Choose some frequencies for your filters\n",
    "corners = [x/sampling_rate*2 for x in []] # E.g. [x/sampling_rate*2 for x in [1e6, 2e6]]\n",
    "exponents = [2, 4, 6, 8]\n",
    "\n",
    "for exponent in exponents:\n",
    "\n",
    "    fig_filter, ax_filter = plt.subplots(figsize=[3.45, 2.3], dpi=200)\n",
    "    fig_spectrum, ax_spectrum = plt.subplots(figsize=[3.45, 2.3], dpi=200)\n",
    "    fig_output, ax_output = plt.subplots(figsize=[3.45, 2.3], dpi=200)\n",
    "\n",
    "    taps = 2**exponent\n",
    "\n",
    "    # Create a FIR filter via the windowing method\n",
    "    # See: https://docs.scipy.org/doc/scipy/reference/signal.html    \n",
    "    # Then convolve it with the input to get the filtered signal (output)\n",
    "    filter = \n",
    "    output = \n",
    "\n",
    "    # Do a FFT of the filter transfer function\n",
    "    filter_spectrum = \n",
    "    filter_freqs = \n",
    "\n",
    "    # Calculate the SNR in dB of the unfiltered and filtered filter. Assume for simplicity that there is no phase shift!\n",
    "    snr_unfiltered = \n",
    "    snr_filtered = \n",
    "    \n",
    "    print(f\"Unfiltered SNR {snr_unfiltered} dB with {taps} taps\")\n",
    "    print(f\"Filtered SNR {snr_filtered} dB {taps} taps\")\n",
    "    # Phase difference!\n",
    "\n",
    "    ax_filter.plot(filter)\n",
    "    ax_spectrum.plot(filter_freqs/1e3, np.abs(filter_spectrum))\n",
    "    ax_output.plot(1e6*time, signal_noisy, label=\"noisy\")\n",
    "    ax_output.plot(1e6*time, output, label=\"filtered\")\n",
    "\n",
    "    ax_filter.set_xlabel(\"Time [μs]\")\n",
    "    ax_filter.set_ylabel(\"Amplitude [a.u.]\")\n",
    "    ax_filter.set_title(f\"FIR Filter {taps} taps\")\n",
    "    ax_spectrum.set_xlabel(\"Frequency [kHz]\")\n",
    "    ax_spectrum.set_ylabel(\"Amplitude [a.u.]\")\n",
    "    ax_spectrum.set_xlim([0,100])\n",
    "    ax_spectrum.set_ylim([1e-4, 10])\n",
    "    ax_spectrum.set_yscale(\"log\")\n",
    "    ax_spectrum.set_title(f\"Transformed FIR Filter {taps} taps\")\n",
    "    ax_output.set_xlabel(\"Time [μs]\")\n",
    "    ax_output.set_ylabel(\"Amplitude [a.u.]\")\n",
    "    ax_output.set_xlim([0,200])\n",
    "    ax_output.set_title(f\"Filtered Signal {taps} taps\")\n",
    "    ax_output.legend(fontsize=\"small\")"
   ]
  },
  {
   "cell_type": "markdown",
   "id": "daabdda2",
   "metadata": {},
   "source": [
    "### Questions:\n",
    "- What kind of filter do we have designed? Of course it is not the ideal version of that since we are using a finite order.\n",
    "  - YOUR ANSWER\n",
    "- Look at the time domain of the filter transfer function, which mathematical function does it remind you of? You have learned about it before, but as a different kind of filter/functionality.\n",
    "  - YOUR ANSWER\n",
    "- What kind of transform or modification, compared to the simple formulation H[n], was done to that mathematical function to make it exhibit this kind of filter behaviour?\n",
    "  - YOUR ANSWER\n"
   ]
  }
 ],
 "metadata": {
  "kernelspec": {
   "display_name": ".venv",
   "language": "python",
   "name": "python3"
  },
  "language_info": {
   "codemirror_mode": {
    "name": "ipython",
    "version": 3
   },
   "file_extension": ".py",
   "mimetype": "text/x-python",
   "name": "python",
   "nbconvert_exporter": "python",
   "pygments_lexer": "ipython3",
   "version": "3.8.10"
  }
 },
 "nbformat": 4,
 "nbformat_minor": 5
}
