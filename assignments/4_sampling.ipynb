{
 "cells": [
  {
   "cell_type": "markdown",
   "id": "23d69b4d",
   "metadata": {},
   "source": [
    "# Assignment 4: Sampling\n",
    "\n",
    "##\n",
    "\n",
    "In this assignment we are going to look into a practical scenario of sampling a signal. We will start with a quadrature-phase-shift-keying (QPSK) modulated signal. This is a common modulation technique to transmit digital data over analog channels, such as wireless radio or optical fibres. These sampling (and receiver) techniques, however, are also used when recording physical measurement data, such as in lock-in amplifiers. In both cases we try to sample as much relevant information as possible from our analog signal that we then can use within our digital signal processing system.\n",
    "\n",
    "### You may need to rerun all cells at once some times. This is due to the randomly generated bit sequence."
   ]
  },
  {
   "cell_type": "code",
   "execution_count": null,
   "id": "f5152d71",
   "metadata": {},
   "outputs": [],
   "source": [
    "import matplotlib.pyplot as plt\n",
    "import numpy as np\n",
    "import scipy as sp"
   ]
  },
  {
   "cell_type": "markdown",
   "id": "30ca830e",
   "metadata": {},
   "source": [
    "## QPSK\n",
    "\n",
    "QPSK is a common modulation technique in communication technology to encode digital data. Feel free to look [here](https://nl.wikipedia.org/wiki/Phase_shift_keying) for more information, but QPSK itself is not relevant for the course or exam. In a nutshell, we take 2 bits (i.e. (1,0)) and encode them with a phase shift (i.e. 90° or 1+1j).\n",
    "\n",
    "Here, we have a 100 kHz sine wave that we call the carrier. This we will modulate with our a lower frequency signal, our message (baseband). The message consists of 2 bits per symbol, at a rate of 5k symbols/s, leading to a bit rate of 10 Kb/s.\n",
    "Please note that the bits are generated randomly. So each execution of the following cell will lead to a different sequence. You can execute the whole notebook multiple times to see different possible sequences.\n",
    "\n",
    "This leads us to a 5 kHz modulated on top of a 100 kHz signal.\n",
    "The following block is just a setup and you do not need to fill anything."
   ]
  },
  {
   "cell_type": "code",
   "execution_count": null,
   "id": "3bfc62bf",
   "metadata": {},
   "outputs": [],
   "source": [
    "sampling_rate = 1e6 # This is chosen very high to correctly show our signal as quasi-analog. It is not the tehcnically relevant sampling rate of the ADC we will talk about later\n",
    "nyq = sampling_rate / 2\n",
    "samples = 1024*100\n",
    "carrier_omega = 2 * np.pi * 100e3\n",
    "symbol_rate = 5e3\n",
    "\n",
    "n_symbols = symbol_rate / sampling_rate * samples\n",
    "samples_per_symbol = samples / n_symbols\n",
    "bits = np.random.randint(0, 2, int(2*n_symbols))\n",
    "bit_pairs = bits.reshape(-1, 2)\n",
    "mapping = {\n",
    "    (0, 0): 1 + 1j,\n",
    "    (0, 1): -1 + 1j,\n",
    "    (1, 1): -1 - 1j,\n",
    "    (1, 0): 1 - 1j\n",
    "}\n",
    "symbols = np.array([mapping[tuple(b)] for b in bit_pairs])\n",
    "baseband = np.repeat(symbols, samples_per_symbol)\n",
    "\n",
    "print(f\"Our first bit pairs are: {bit_pairs[:5]}\")\n",
    "print(f\"Our first symbols are: {symbols[:5]}\")\n",
    "\n",
    "time = np.arange(samples) / sampling_rate\n",
    "carrier = np.sin(carrier_omega * time)\n",
    "\n",
    "carrier_i = np.cos(carrier_omega * time)\n",
    "carrier_q = np.sin(carrier_omega * time)\n",
    "qpsk_signal = np.real(baseband) * carrier_i - np.imag(baseband) * carrier_q\n",
    "\n",
    "fig_mod, ax_mod = plt.subplots(figsize=[3.45, 2.3], dpi=200)\n",
    "ax_mod.plot(1e6*time, qpsk_signal)\n",
    "ax_mod.set_xlabel(\"Time [μs]\")\n",
    "ax_mod.set_ylabel(\"Amplitude [a.u.]\")\n",
    "ax_mod.set_xlim([50,450])\n",
    "ax_mod.set_title(\"Modulated Carrier\")"
   ]
  },
  {
   "cell_type": "markdown",
   "id": "2e6dad09",
   "metadata": {},
   "source": [
    "## Task 1: Direct sampling\n",
    "\n",
    "You will now need to sample this signal. In this case, since it already is digital, we are emulating the sampling process by reducing the sampling rate.\n",
    "\n",
    "Your task is to choose the highest decimation factor (lowest sampling rate) that allows you to still see bit changes in the following plots. Run the notebook several times to see how it looks like for different symbol changes, or not symbol change at all."
   ]
  },
  {
   "cell_type": "code",
   "execution_count": null,
   "id": "ecb8a29d",
   "metadata": {},
   "outputs": [],
   "source": [
    "factor_direct = # Find the highest factor that allows you to see bit changes in symbol 1->2 and 2->3. The ADC sampling rate (so the effective sampling rate) is then sampling_rate/factor_direct.\n",
    "print(f\"Sampling rate for direct sampling: {sampling_rate/factor_direct}\")\n",
    "\n",
    "direct_sampled = sp.signal.decimate(qpsk_signal, factor_direct)\n",
    "time_sampled_direct = np.arange(samples/factor_direct) / sampling_rate * factor_direct\n",
    "\n",
    "fig_direct1, ax_direct1 = plt.subplots(figsize=[3.45, 2.3], dpi=200)\n",
    "ax_direct1.plot(1e6*time, qpsk_signal)\n",
    "ax_direct1.plot(1e6*time_sampled_direct, direct_sampled)\n",
    "ax_direct1.set_xlabel(\"Time [μs]\")\n",
    "ax_direct1.set_ylabel(\"Amplitude [a.u.]\")\n",
    "ax_direct1.set_xlim([150, 250])\n",
    "ax_direct1.set_title(\"Sampled (Symbol 1->2)\")\n",
    "\n",
    "fig_direct2, ax_direct2 = plt.subplots(figsize=[3.45, 2.3], dpi=200)\n",
    "ax_direct2.plot(1e6*time, qpsk_signal)\n",
    "ax_direct2.plot(1e6*time_sampled_direct, direct_sampled)\n",
    "ax_direct2.set_xlabel(\"Time [μs]\")\n",
    "ax_direct2.set_ylabel(\"Amplitude [a.u.]\")\n",
    "ax_direct2.set_xlim([350, 450])\n",
    "ax_direct2.set_title(\"Sampled (Symbol 2->3)\")\n",
    "ax_direct1.set_xlim([350, 450])\n",
    "ax_direct1.set_title(\"Sampled (Symbol 2->3)\")"
   ]
  },
  {
   "cell_type": "markdown",
   "id": "a2d8944b",
   "metadata": {},
   "source": [
    "### Questions:\n",
    "- Look at the plots of the signal and how it changes based between the symbols. How (in what part of the carrier signal) is the information encoded? Rerun the notebook to see several possibilites.\n",
    "  - YOUR ANSWER\n",
    "- In this case we have two signals (carrier and message/baseband), which one is dictating the minimum sampling (Nyquist) rate needed? Why?\n",
    "  - YOUR ANSWER\n"
   ]
  },
  {
   "cell_type": "markdown",
   "id": "6fba4646",
   "metadata": {},
   "source": [
    "## Task 2: IQ - Sampling\n",
    "\n",
    "Now we will try another sampling technique, called In-Phase/Quadrature sampling. You can also find it referred to as just quadrature sampling or direct conversion. Refer to the lecture on sampling for the concept.\n",
    "\n",
    "Your tasks are:\n",
    "- Calculate the I and Q components as referred to in the lecture\n",
    "- Choose an appropriate lowpass cutoff frequency\n",
    "- Find the minimum factor (sampling rate) to reconstruct the original message (bit sequence)\n",
    "  - Run it multiple times to check if it works with different sequences.\n",
    "\n",
    "If you can see something looking like a bit sequence (on/off sequence) in the first figure you are on the right way. Note that there can be some overshoot in the rectangles."
   ]
  },
  {
   "cell_type": "code",
   "execution_count": null,
   "id": "c9c473df",
   "metadata": {},
   "outputs": [],
   "source": [
    "# Get the I and Q components from qpsk_signal\n",
    "i_component = # qpsk_signal * [...]\n",
    "q_component = # qpsk_signal * [...]\n",
    "\n",
    "# Now we need to lowpass\n",
    "cutoff = # Your cutoff frequency (lowpass). \n",
    "\n",
    "sos = sp.signal.butter(3, cutoff/nyq, btype=\"lowpass\", output=\"sos\")\n",
    "i_lowpassed = sp.signal.sosfilt(sos, i_component)\n",
    "q_lowpassed = sp.signal.sosfilt(sos, q_component)\n",
    "\n",
    "fig_demod, ax_demod = plt.subplots(figsize=[3.45, 2.3], dpi=200)\n",
    "ax_demod.plot(1e6*time, i_lowpassed, label=\"I\")\n",
    "ax_demod.plot(1e6*time, q_lowpassed, label=\"Q\")\n",
    "ax_demod.set_xlabel(\"Time [μs]\")\n",
    "ax_demod.set_ylabel(\"Amplitude [a.u.]\")\n",
    "ax_demod.set_xlim([0,1000])\n",
    "ax_demod.set_title(\"IQ Demodulated\")\n",
    "ax_demod.legend()\n",
    "\n",
    "# Now we emulate an ADC by downsampling our \"analog\" signal. Again choose the maximum factor (minimum sampling rate) to reconstruct the information.\n",
    "factor_iq = # Your factor\n",
    "print(f\"Sampling rate for IQ sampling: {sampling_rate/factor_iq}\")\n",
    "\n",
    "i_sampled = sp.signal.decimate(i_lowpassed, factor_iq)\n",
    "q_sampled = sp.signal.decimate(q_lowpassed, factor_iq)\n",
    "time_sampled_iq= np.arange(samples/factor_iq) / sampling_rate * factor_iq\n",
    "\n",
    "fig_sampled, ax_sampled = plt.subplots(figsize=[3.45, 2.3], dpi=200)\n",
    "ax_sampled.plot(1e6*time_sampled_iq, i_sampled, label=\"I\")\n",
    "ax_sampled.plot(1e6*time_sampled_iq, q_sampled, label=\"Q\")\n",
    "ax_sampled.set_xlabel(\"Time [μs]\")\n",
    "ax_sampled.set_ylabel(\"Amplitude [a.u.]\")\n",
    "ax_sampled.set_xlim([0,1000])\n",
    "ax_sampled.set_title(\"Sampled\")\n",
    "ax_sampled.legend()"
   ]
  },
  {
   "cell_type": "markdown",
   "id": "d6cf2f28",
   "metadata": {},
   "source": [
    "### Questions:\n",
    "- What does the low-pass accomplish?\n",
    "  - YOUR ANSWER\n",
    "- What influence does the cutoff sfrequency have on the shape of the IQ demodulated signal?\n",
    "  - YOUR ANSWER\n",
    "- How (in what part of the signal) is the information now encoded in the IQ demodulated signal?\n",
    "  - YOUR ANSWER\n",
    "- What signal is now dictating the Nyquist rate?\n",
    "  - YOUR ANSWER\n",
    "- What is the advantage of IQ sampling, and what is the disadvantage?\n",
    "  - YOUR ANSWER\n"
   ]
  }
 ],
 "metadata": {
  "kernelspec": {
   "display_name": ".venv",
   "language": "python",
   "name": "python3"
  },
  "language_info": {
   "codemirror_mode": {
    "name": "ipython",
    "version": 3
   },
   "file_extension": ".py",
   "mimetype": "text/x-python",
   "name": "python",
   "nbconvert_exporter": "python",
   "pygments_lexer": "ipython3",
   "version": "3.8.10"
  }
 },
 "nbformat": 4,
 "nbformat_minor": 5
}
